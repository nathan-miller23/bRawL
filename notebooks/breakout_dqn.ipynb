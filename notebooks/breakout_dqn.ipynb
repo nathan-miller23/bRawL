{
 "cells": [
  {
   "cell_type": "code",
   "execution_count": 2,
   "metadata": {},
   "outputs": [],
   "source": [
    "import torch\n",
    "import ray\n",
    "import gym\n",
    "from IPython import display\n",
    "import ray.rllib.agents.dqn as dqn\n",
    "import matplotlib\n",
    "import matplotlib.pyplot as plt\n",
    "%matplotlib inline"
   ]
  },
  {
   "cell_type": "code",
   "execution_count": null,
   "metadata": {},
   "outputs": [
    {
     "name": "stderr",
     "output_type": "stream",
     "text": [
      "Install gputil for GPU system monitoring.\n"
     ]
    },
    {
     "name": "stdout",
     "output_type": "stream",
     "text": [
      "3.5\n",
      "1.875\n",
      "1.5\n",
      "1.6875\n",
      "1.8\n",
      "1.7916666666666667\n",
      "1.6551724137931034\n",
      "1.4857142857142858\n",
      "1.4615384615384615\n",
      "1.5476190476190477\n",
      "1.6444444444444444\n",
      "1.68\n",
      "1.6296296296296295\n",
      "1.5932203389830508\n",
      "1.59375\n",
      "1.536231884057971\n",
      "1.5205479452054795\n",
      "1.5194805194805194\n",
      "1.4878048780487805\n",
      "1.4823529411764707\n",
      "1.5\n",
      "1.5053763440860215\n",
      "1.489795918367347\n",
      "1.51\n",
      "1.49\n",
      "1.5\n",
      "1.51\n",
      "1.47\n",
      "1.51\n",
      "1.55\n",
      "1.62\n",
      "1.67\n",
      "1.66\n",
      "1.63\n",
      "1.57\n",
      "1.63\n",
      "1.65\n",
      "1.64\n",
      "1.71\n",
      "1.78\n",
      "1.88\n",
      "2.0\n",
      "2.04\n",
      "2.12\n",
      "2.17\n",
      "2.29\n",
      "2.5\n",
      "2.65\n",
      "2.72\n",
      "2.77\n",
      "2.89\n",
      "2.95\n",
      "3.11\n",
      "3.16\n",
      "3.32\n",
      "3.38\n",
      "3.43\n",
      "3.59\n",
      "3.7\n",
      "3.83\n",
      "3.98\n",
      "4.13\n",
      "4.14\n",
      "4.31\n",
      "4.36\n",
      "4.51\n",
      "4.58\n",
      "4.71\n",
      "4.9\n",
      "4.95\n",
      "5.01\n",
      "5.16\n",
      "5.27\n",
      "5.38\n",
      "5.49\n",
      "5.64\n",
      "5.73\n"
     ]
    }
   ],
   "source": [
    "from ray.rllib.agents import dqn\n",
    "\n",
    "config = dqn.DEFAULT_CONFIG.copy()\n",
    "config['hiddens'] = [256, 256]\n",
    "trainer = dqn.DQNTrainer(env='Breakout-v0', config=config)\n",
    "for i in range(100):\n",
    "    print(trainer.train()['episode_reward_mean'])"
   ]
  },
  {
   "cell_type": "code",
   "execution_count": null,
   "metadata": {},
   "outputs": [],
   "source": []
  }
 ],
 "metadata": {
  "kernelspec": {
   "display_name": "Python 3",
   "language": "python",
   "name": "python3"
  },
  "language_info": {
   "codemirror_mode": {
    "name": "ipython",
    "version": 3
   },
   "file_extension": ".py",
   "mimetype": "text/x-python",
   "name": "python",
   "nbconvert_exporter": "python",
   "pygments_lexer": "ipython3",
   "version": "3.7.3"
  }
 },
 "nbformat": 4,
 "nbformat_minor": 2
}
