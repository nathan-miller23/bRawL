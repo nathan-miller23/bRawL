{
 "cells": [
  {
   "cell_type": "markdown",
   "metadata": {},
   "source": [
    "# bRawL Project Tools"
   ]
  },
  {
   "cell_type": "markdown",
   "metadata": {},
   "source": [
    "This notebook will walk you through some of the gym, rllib and sacred basics. These are all tools we will be using throughout this project, so it's best to get a solid working familiarity with them from the getgo"
   ]
  },
  {
   "cell_type": "code",
   "execution_count": 1,
   "metadata": {},
   "outputs": [],
   "source": [
    "# Begin with some imports\n",
    "import torch\n",
    "import ray\n",
    "import gym\n",
    "from IPython import display\n",
    "import matplotlib\n",
    "import matplotlib.pyplot as plt\n",
    "%matplotlib inline"
   ]
  },
  {
   "cell_type": "markdown",
   "metadata": {},
   "source": [
    "Let's verify that torch can see our GPUs"
   ]
  },
  {
   "cell_type": "code",
   "execution_count": 2,
   "metadata": {},
   "outputs": [
    {
     "data": {
      "text/plain": [
       "True"
      ]
     },
     "execution_count": 2,
     "metadata": {},
     "output_type": "execute_result"
    }
   ],
   "source": [
    "# Should return `True`\n",
    "torch.cuda.is_available()"
   ]
  },
  {
   "cell_type": "markdown",
   "metadata": {},
   "source": [
    "## Environments"
   ]
  },
  {
   "cell_type": "markdown",
   "metadata": {},
   "source": [
    "The central mathematical object that underpins all reinforcement learning is the Markov Decision Process (MDP). As you learned, the MDP can be represented as a four tuple $(\\mathcal{S}, \\mathcal{A}, \\mathcal{T}, R)$, where $\\mathcal{S}$ is the state space, $\\mathcal{A}$ is the action space, $\\mathcal{T} : \\mathcal{S} x \\mathcal{A} \\longrightarrow \\mathcal{S}$ is the transition function that encodes the state dynamics, and $\\mathcal{R} : \\mathcal{S} x \\mathcal{A} \\longrightarrow \\mathbb{R}$ is the reward function\n",
    "\n",
    "In practice, we represent such an object using an environment class, usually one that follows the [gym](https://gym.openai.com/) API. The `Environment` class has the following core functions that all subclasses must implement:\n",
    "\n",
    "`step(action)`:  \n",
    "\n",
    "Takes in an action and returns a tuple `(observation, reward, done, info)` where `observation` is the new state we arrive at, `reward` is a scalar represeting how much reward the agent got at this timestep, `done` is a boolean indicating whether the current episode has terminated, and `info` is reserved for whatever metadata  \n",
    "\n",
    "`reset()`:  \n",
    "\n",
    "Called at the beginning of every episode, used to instantiate all agents and environment artifacts, returns initial state observation. \n",
    "\n",
    "In addition, the `Environment` class has `observation_space` and `action_space` members that represent the set of allowable states and actions. Environments can be created by calling `gym.make('<environment_name>')`\n",
    "\n",
    "\n",
    "\n",
    "Let's look at a specific example below, the classic Atari game, Breakout"
   ]
  },
  {
   "cell_type": "code",
   "execution_count": 3,
   "metadata": {},
   "outputs": [
    {
     "name": "stdout",
     "output_type": "stream",
     "text": [
      "Observation space Box(0, 255, (210, 160, 3), uint8)\n",
      "Action space Discrete(4)\n",
      "Initial state shape (210, 160, 3)\n"
     ]
    }
   ],
   "source": [
    "breakout_env = gym.make('Breakout-v0')\n",
    "\n",
    "ob_space = breakout_env.observation_space\n",
    "ac_space = breakout_env.action_space\n",
    "\n",
    "initial_state = breakout_env.reset()\n",
    "\n",
    "print(\"Observation space\", ob_space)\n",
    "print(\"Action space\", ac_space)\n",
    "print(\"Initial state shape\", initial_state.shape)"
   ]
  },
  {
   "cell_type": "markdown",
   "metadata": {},
   "source": [
    "Let's see if we can visualize a state of the environment"
   ]
  },
  {
   "cell_type": "code",
   "execution_count": 4,
   "metadata": {},
   "outputs": [
    {
     "name": "stdout",
     "output_type": "stream",
     "text": [
      "Render shape (210, 160, 3)\n"
     ]
    },
    {
     "data": {
      "text/plain": [
       "<matplotlib.image.AxesImage at 0x7fd118c4b6d8>"
      ]
     },
     "execution_count": 4,
     "metadata": {},
     "output_type": "execute_result"
    },
    {
     "data": {
      "image/png": "[encoded data removed]",
      "text/plain": [
       "<Figure size 432x288 with 1 Axes>"
      ]
     },
     "metadata": {},
     "output_type": "display_data"
    }
   ],
   "source": [
    "img = breakout_env.render(mode='rgb_array')\n",
    "print(\"Render shape\", img.shape)\n",
    "plt.imshow(breakout_env.render(mode='rgb_array'))"
   ]
  },
  {
   "cell_type": "markdown",
   "metadata": {},
   "source": [
    "As you can see, the `observation` array is precisely a RGB image representing the pixels on the game\n",
    "\n",
    "Now let's visualize a rollout generated by randomly sampling actions at every timestep"
   ]
  },
  {
   "cell_type": "code",
   "execution_count": 5,
   "metadata": {},
   "outputs": [
    {
     "data": {
      "image/png": "[encoded data removed]",
      "text/plain": [
       "<Figure size 432x288 with 1 Axes>"
      ]
     },
     "metadata": {},
     "output_type": "display_data"
    }
   ],
   "source": [
    "breakout_env.reset()\n",
    "for _ in range(100):\n",
    "    plt.imshow(breakout_env.render(mode='rgb_array'))\n",
    "    display.display(plt.gcf())\n",
    "    display.clear_output(wait=True)\n",
    "    action = breakout_env.action_space.sample()\n",
    "    breakout_env.step(action)"
   ]
  },
  {
   "cell_type": "markdown",
   "metadata": {},
   "source": [
    "Oof. That was... not great....\n",
    "\n",
    "But do not despair, this is where the RL comes in. Our agents will learn to behave intelligently by the end of this if all goes according to plan. "
   ]
  },
  {
   "cell_type": "markdown",
   "metadata": {},
   "source": [
    "## Rllib "
   ]
  },
  {
   "cell_type": "markdown",
   "metadata": {},
   "source": [
    "### Policies"
   ]
  },
  {
   "cell_type": "markdown",
   "metadata": {},
   "source": [
    "Now let's get a sense of some of the inner workings of Rllib, the library we'll be using to train our agents. The key abstraction in rllib is the `Policy` object. The policy represents a function that accepts an input state, and outputs a distribution over possible actions the agent should take at this state. \n",
    "\n",
    "The policy class takes in an `observation_space` and `action_space` as parameters, and implements the function `compute_actions`, `learn_on_batch` and `compute_log_likelihoods`"
   ]
  },
  {
   "cell_type": "markdown",
   "metadata": {},
   "source": [
    "To get a sense of how policies work, let's see if we can implement our random policy from above"
   ]
  },
  {
   "cell_type": "code",
   "execution_count": 3,
   "metadata": {},
   "outputs": [
    {
     "name": "stdout",
     "output_type": "stream",
     "text": [
      "WARNING:tensorflow:From //anaconda3/lib/python3.7/site-packages/tensorflow/python/compat/v2_compat.py:61: disable_resource_variables (from tensorflow.python.ops.variable_scope) is deprecated and will be removed in a future version.\n",
      "Instructions for updating:\n",
      "non-resource variables are not supported in the long term\n"
     ]
    }
   ],
   "source": [
    "from ray.rllib.policy.policy import Policy\n",
    "\n",
    "class RandomPolicy(Policy):\n",
    "    \n",
    "    def __init__(self, *args, **kwargs):\n",
    "        super().__init__(*args, **kwargs)\n",
    "        \n",
    "        # TODO: Set some instance variables here\n",
    "        # Note: the super constructor will set the instance variables `action_space` and `observation_space` for you\n",
    "        pass\n",
    "    \n",
    "    def compute_actions(self,\n",
    "                        obs_batch,\n",
    "                        state_batches=None,\n",
    "                        prev_action_batch=None,\n",
    "                        prev_reward_batch=None,\n",
    "                        **kwargs):\n",
    "        # Randomly sample an action\n",
    "        pass\n",
    "    \n",
    "    def learn_on_batch(self, samples):\n",
    "        \"\"\"No learning.\"\"\"\n",
    "        return {}\n",
    "    \n",
    "    def compute_log_likelihoods(self,\n",
    "                                actions,\n",
    "                                obs_batch,\n",
    "                                state_batches=None,\n",
    "                                prev_action_batch=None,\n",
    "                                prev_reward_batch=None):\n",
    "        # Return logits from a uniform distribution\n",
    "        pass\n",
    "    def get_weights(self):\n",
    "        \"\"\"\n",
    "        No-op to keep rllib from breaking, won't be necessary in future rllib releases\n",
    "        \"\"\"\n",
    "        pass\n",
    "\n",
    "    def set_weights(self, weights):\n",
    "        \"\"\"\n",
    "        No-op to keep rllib from breaking\n",
    "        \"\"\"\n",
    "        pass"
   ]
  },
  {
   "cell_type": "code",
   "execution_count": 26,
   "metadata": {},
   "outputs": [],
   "source": [
    "from ray.rllib.env.multi_agent_env import MultiAgentEnv\n",
    "class BreakoutRllib(MultiAgentEnv):\n",
    "    \n",
    "    def __init__(self, *args, **kwargs):\n",
    "        self._env = gym.make('Breakout-v0')\n",
    "        self.action_space = self._env.action_space\n",
    "        self.observation_space = self._env.observation_space\n",
    "        \n",
    "        \n",
    "    def step(self, action):\n",
    "        obs, reward, done, info = self._env.step(action)\n",
    "        return { \"random\" : obs }, reward, done, info\n",
    "    \n",
    "    def reset(self):\n",
    "        return self._env.reset()"
   ]
  },
  {
   "cell_type": "code",
   "execution_count": 28,
   "metadata": {},
   "outputs": [
    {
     "name": "stderr",
     "output_type": "stream",
     "text": [
      "2020-09-27 20:24:31,322\tINFO resource_spec.py:231 -- Starting Ray with 1.51 GiB memory available for workers and up to 0.78 GiB for objects. You can adjust these settings with ray.init(memory=<bytes>, object_store_memory=<bytes>).\n",
      "2020-09-27 20:24:31,769\tINFO services.py:1193 -- View the Ray dashboard at \u001b[1m\u001b[32mlocalhost:8265\u001b[39m\u001b[22m\n",
      "2020-09-27 20:24:31,775\tWARNING services.py:1567 -- WARNING: The object store is using /tmp instead of /dev/shm because /dev/shm has only 67084288 bytes available. This may slow down performance! You may be able to free up space by deleting files in /dev/shm or terminating any running plasma_store_server processes. If you are inside a Docker container, you may need to pass an argument with the flag '--shm-size' to 'docker run'.\n",
      "2020-09-27 20:24:31,794\tWARNING services.py:1567 -- WARNING: The object store is using /tmp instead of /dev/shm because /dev/shm has only 67084288 bytes available. This may slow down performance! You may be able to free up space by deleting files in /dev/shm or terminating any running plasma_store_server processes. If you are inside a Docker container, you may need to pass an argument with the flag '--shm-size' to 'docker run'.\n",
      "2020-09-27 20:24:33,014\tWARNING worker.py:1134 -- The dashboard on node b13c8ff69a98 failed with the following error:\n",
      "Traceback (most recent call last):\n",
      "  File \"/usr/lib/python3.6/asyncio/base_events.py\", line 1073, in create_server\n",
      "    sock.bind(sa)\n",
      "OSError: [Errno 99] Cannot assign requested address\n",
      "\n",
      "During handling of the above exception, another exception occurred:\n",
      "\n",
      "Traceback (most recent call last):\n",
      "  File \"/env/lib/python3.6/site-packages/ray/dashboard/dashboard.py\", line 961, in <module>\n",
      "    dashboard.run()\n",
      "  File \"/env/lib/python3.6/site-packages/ray/dashboard/dashboard.py\", line 576, in run\n",
      "    aiohttp.web.run_app(self.app, host=self.host, port=self.port)\n",
      "  File \"/env/lib/python3.6/site-packages/aiohttp/web.py\", line 433, in run_app\n",
      "    reuse_port=reuse_port))\n",
      "  File \"/usr/lib/python3.6/asyncio/base_events.py\", line 488, in run_until_complete\n",
      "    return future.result()\n",
      "  File \"/env/lib/python3.6/site-packages/aiohttp/web.py\", line 359, in _run_app\n",
      "    await site.start()\n",
      "  File \"/env/lib/python3.6/site-packages/aiohttp/web_runner.py\", line 104, in start\n",
      "    reuse_port=self._reuse_port)\n",
      "  File \"/usr/lib/python3.6/asyncio/base_events.py\", line 1077, in create_server\n",
      "    % (sa, err.strerror.lower()))\n",
      "OSError: [Errno 99] error while attempting to bind on address ('::1', 8265, 0, 0): cannot assign requested address\n",
      "\n",
      "2020-09-27 20:24:33,090\tWARNING util.py:37 -- Install gputil for GPU system monitoring.\n"
     ]
    }
   ],
   "source": [
    "# Some ray setup\n",
    "from ray.rllib.agents.ppo.ppo import PPOTrainer\n",
    "from ray.tune.registry import register_env\n",
    "ray.init()\n",
    "\n",
    "# Register the gym environment (Note that this is different than the gym registry!)\n",
    "register_env(\"breakout\",\n",
    "             lambda _: BreakoutRllib())\n",
    "obs_space = breakout_env.observation_space\n",
    "act_space = breakout_env.action_space\n",
    "\n",
    "config = config={\n",
    "        \"multiagent\": {\n",
    "            \"policies\": {\n",
    "                \"random\": (RandomPolicy, obs_space, act_space, {}),\n",
    "            },\n",
    "            \"policy_mapping_fn\": (\n",
    "                lambda agent_id: \"random\"),\n",
    "        },\n",
    "        \"num_workers\" : 1,\n",
    "        \"framework\": \"torch\"\n",
    "}\n",
    "\n",
    "trainer = PPOTrainer(env=\"breakout\", config=config)"
   ]
  },
  {
   "cell_type": "code",
   "execution_count": 27,
   "metadata": {},
   "outputs": [],
   "source": [
    "ray.shutdown()"
   ]
  },
  {
   "cell_type": "markdown",
   "metadata": {},
   "source": [
    "### Custom Models"
   ]
  },
  {
   "cell_type": "markdown",
   "metadata": {},
   "source": [
    "### Callbacks"
   ]
  },
  {
   "cell_type": "markdown",
   "metadata": {},
   "source": [
    "## Sacred"
   ]
  },
  {
   "cell_type": "markdown",
   "metadata": {},
   "source": [
    "Another useful tool we will be using is sacred. It offers us two conviences: syntatic sugar for command line calls, as well as automated slack notifications for when trainings complete. The api is simple:"
   ]
  },
  {
   "cell_type": "code",
   "execution_count": 30,
   "metadata": {},
   "outputs": [],
   "source": [
    "# Create an experiment object\n",
    "from sacred import Experiment\n",
    "ex = Experiment(\"My Experiment\", interactive=True)"
   ]
  },
  {
   "cell_type": "code",
   "execution_count": 35,
   "metadata": {},
   "outputs": [],
   "source": [
    "@ex.config\n",
    "def my_config():\n",
    "    # Define any parameters and its defaults here\n",
    "    \n",
    "    a = 1\n",
    "    b = 2\n",
    "    c = 3\n",
    "    \n",
    "    params = {\n",
    "        \"a\" : a,\n",
    "        \"b\" : b,\n",
    "        \"c\" : c\n",
    "    }"
   ]
  },
  {
   "cell_type": "code",
   "execution_count": 36,
   "metadata": {},
   "outputs": [],
   "source": [
    "@ex.main\n",
    "def main(params):\n",
    "    for (key, value) in params.items():\n",
    "        print(\"Parameter {} is set to {}\".format(key, value))"
   ]
  },
  {
   "cell_type": "code",
   "execution_count": 37,
   "metadata": {},
   "outputs": [
    {
     "name": "stderr",
     "output_type": "stream",
     "text": [
      "WARNING - My Experiment - No observers have been added to this run\n",
      "INFO - My Experiment - Running command 'main'\n",
      "INFO - My Experiment - Started\n",
      "INFO - My Experiment - Completed after 0:00:00\n"
     ]
    },
    {
     "name": "stdout",
     "output_type": "stream",
     "text": [
      "Parameter a is set to 1\n",
      "Parameter b is set to 2\n",
      "Parameter c is set to 3\n"
     ]
    },
    {
     "data": {
      "text/plain": [
       "<sacred.run.Run at 0x7f22801b0d68>"
      ]
     },
     "execution_count": 37,
     "metadata": {},
     "output_type": "execute_result"
    }
   ],
   "source": [
    "ex.run()"
   ]
  },
  {
   "cell_type": "markdown",
   "metadata": {},
   "source": [
    "As you can see, the `params` defined in `my_config` was passed into `main` when we ran the experiment. We can override defualt values in python using the following syntax"
   ]
  },
  {
   "cell_type": "code",
   "execution_count": 38,
   "metadata": {},
   "outputs": [
    {
     "name": "stderr",
     "output_type": "stream",
     "text": [
      "WARNING - root - Changed type of config entry \"c\" from int to str\n",
      "WARNING - My Experiment - No observers have been added to this run\n",
      "INFO - My Experiment - Running command 'main'\n",
      "INFO - My Experiment - Started\n",
      "INFO - My Experiment - Completed after 0:00:00\n"
     ]
    },
    {
     "name": "stdout",
     "output_type": "stream",
     "text": [
      "Parameter a is set to 1\n",
      "Parameter b is set to 2\n",
      "Parameter c is set to this is a non-default setting!\n"
     ]
    },
    {
     "data": {
      "text/plain": [
       "<sacred.run.Run at 0x7f228049d908>"
      ]
     },
     "execution_count": 38,
     "metadata": {},
     "output_type": "execute_result"
    }
   ],
   "source": [
    "ex.run(config_updates={'c' : 'this is a non-default setting!'})"
   ]
  },
  {
   "cell_type": "markdown",
   "metadata": {},
   "source": [
    "As you can see, the value of `c` was updated, and sacred even gave us a type warning, a true luxury in the python world!\n",
    "\n",
    "If saved all the above code in a file called `foo.py` we could run the experiment from the command line by executing \n",
    "```\n",
    "python foo.py \n",
    "```\n",
    "\n",
    "In order to update `c` as we did in the second run, we would execute\n",
    "```\n",
    "python foo.py with c=\"this is a non-default setting!\"\n",
    "```\n",
    "\n",
    "The general syntax for upating any param is\n",
    "```\n",
    "python foo.py with <param_1>=<val_1> <param_2>=<val_2>...\n",
    "```"
   ]
  },
  {
   "cell_type": "code",
   "execution_count": null,
   "metadata": {},
   "outputs": [],
   "source": []
  }
 ],
 "metadata": {
  "kernelspec": {
   "display_name": "Python 3",
   "language": "python",
   "name": "python3"
  },
  "language_info": {
   "codemirror_mode": {
    "name": "ipython",
    "version": 3
   },
   "file_extension": ".py",
   "mimetype": "text/x-python",
   "name": "python",
   "nbconvert_exporter": "python",
   "pygments_lexer": "ipython3",
   "version": "3.6.9"
  }
 },
 "nbformat": 4,
 "nbformat_minor": 4
}
