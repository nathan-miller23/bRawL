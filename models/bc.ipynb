{
 "cells": [
  {
   "cell_type": "code",
   "execution_count": 1,
   "metadata": {},
   "outputs": [
    {
     "output_type": "stream",
     "name": "stdout",
     "text": [
      "cpu\n"
     ]
    }
   ],
   "source": [
    "import json\n",
    "import numpy as np\n",
    "import torch\n",
    "from torch import nn\n",
    "from torch.utils import data\n",
    "from matplotlib import pyplot as plt\n",
    "from sklearn.model_selection import train_test_split\n",
    "from pathlib import Path\n",
    "from ppo_model import RllibPPOModel\n",
    "from gym import spaces\n",
    "import bc\n",
    "import melee\n",
    "print(bc.device)"
   ]
  },
  {
   "cell_type": "code",
   "execution_count": 2,
   "metadata": {},
   "outputs": [],
   "source": [
    "%load_ext autoreload\n",
    "%autoreload 2"
   ]
  },
  {
   "cell_type": "code",
   "execution_count": 3,
   "metadata": {},
   "outputs": [],
   "source": [
    "DATA_FOLDER = \"../mocker/fox_falco_b4_f4\"\n",
    "LOAD_CHECKPOINT = None\n",
    "SAVE_CHECKPOINT = \"./fox_falco_b4_f4\"\n",
    "FRAME_SKIP = 1\n",
    "BATCH_SIZE = 64\n",
    "NUM_EPOCHS = 100\n",
    "TRAIN = False"
   ]
  },
  {
   "cell_type": "code",
   "execution_count": 6,
   "metadata": {
    "tags": []
   },
   "outputs": [
    {
     "output_type": "stream",
     "name": "stdout",
     "text": [
      "15834 steps. dim_states (87, 4), num_actions 69\n"
     ]
    }
   ],
   "source": [
    "states, actions, dim_states, num_actions = bc.states_from_folder(DATA_FOLDER)\n",
    "state_size, buffer_size = dim_states\n",
    "print(f\"{len(states)} steps. dim_states {dim_states}, num_actions {num_actions}\")\n",
    "train_dataloader, test_dataloader = bc.datasets(states, actions, batch_size=BATCH_SIZE)"
   ]
  },
  {
   "cell_type": "code",
   "execution_count": 7,
   "metadata": {},
   "outputs": [],
   "source": [
    "bc_agent = bc.LinearBufferAgent(buffer_size, state_size, num_actions)\n",
    "if LOAD_CHECKPOINT:\n",
    "    bc_agent.load_state(LOAD_CHECKPOINT)\n",
    "elif TRAIN:\n",
    "    bc.train(bc_agent, train_dataloader, test_dataloader, num_actions, num_epochs=NUM_EPOCHS)\n",
    "    if SAVE_CHECKPOINT:\n",
    "        bc_agent.save_state(SAVE_CHECKPOINT)"
   ]
  },
  {
   "cell_type": "code",
   "execution_count": 8,
   "metadata": {
    "tags": []
   },
   "outputs": [
    {
     "output_type": "stream",
     "name": "stdout",
     "text": [
      "Connecting to console...\n",
      "Connecting controller to console...\n",
      "Controllers connected\n",
      "STOPPING DOLPHIN\n"
     ]
    }
   ],
   "source": [
    "bc.play(bc_agent, cpu_level=1, buffer_size=buffer_size, frame_skip=FRAME_SKIP)"
   ]
  },
  {
   "cell_type": "code",
   "execution_count": 9,
   "metadata": {},
   "outputs": [
    {
     "output_type": "stream",
     "name": "stdout",
     "text": [
      "Connecting to console...\n",
      "Connecting controller to console...\n",
      "Controllers connected\n",
      "STOPPING DOLPHIN\n"
     ]
    }
   ],
   "source": [
    "bc.play(bc_agent, cpu_level=9, buffer_size=buffer_size, frame_skip=FRAME_SKIP)"
   ]
  },
  {
   "cell_type": "code",
   "execution_count": 10,
   "metadata": {},
   "outputs": [
    {
     "output_type": "stream",
     "name": "stdout",
     "text": [
      "Connecting to console...\n",
      "Connecting controller to console...\n",
      "Controllers connected\n",
      "STOPPING DOLPHIN\n"
     ]
    }
   ],
   "source": [
    "bc.play(bc_agent, cpu_level=9, char1=melee.Character.DK, char2=melee.Character.KIRBY, buffer_size=buffer_size, frame_skip=FRAME_SKIP)"
   ]
  },
  {
   "cell_type": "code",
   "execution_count": null,
   "metadata": {},
   "outputs": [],
   "source": []
  }
 ],
 "metadata": {
  "kernelspec": {
   "display_name": "brawl",
   "language": "python",
   "name": "brawl"
  },
  "language_info": {
   "codemirror_mode": {
    "name": "ipython",
    "version": 3
   },
   "file_extension": ".py",
   "mimetype": "text/x-python",
   "name": "python",
   "nbconvert_exporter": "python",
   "pygments_lexer": "ipython3",
   "version": "3.8.2-final"
  }
 },
 "nbformat": 4,
 "nbformat_minor": 4
}