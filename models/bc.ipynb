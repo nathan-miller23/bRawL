{
 "cells": [
  {
   "cell_type": "code",
   "execution_count": 1,
   "metadata": {},
   "outputs": [
    {
     "output_type": "stream",
     "name": "stdout",
     "text": [
      "cpu\n"
     ]
    }
   ],
   "source": [
    "import json\n",
    "import numpy as np\n",
    "import torch\n",
    "from torch import nn\n",
    "from torch.utils import data\n",
    "from matplotlib import pyplot as plt\n",
    "from sklearn.model_selection import train_test_split\n",
    "from pathlib import Path\n",
    "from ppo_model import RllibPPOModel\n",
    "from gym import spaces\n",
    "import bc\n",
    "print(bc.device)"
   ]
  },
  {
   "cell_type": "code",
   "execution_count": 7,
   "metadata": {},
   "outputs": [
    {
     "output_type": "stream",
     "name": "stdout",
     "text": [
      "The autoreload extension is already loaded. To reload it, use:\n  %reload_ext autoreload\n"
     ]
    }
   ],
   "source": [
    "%load_ext autoreload\n",
    "%autoreload 2"
   ]
  },
  {
   "cell_type": "code",
   "execution_count": 11,
   "metadata": {},
   "outputs": [],
   "source": [
    "DATA_FOLDER = \"../mocker/fox_recovery\"\n",
    "LOAD_CHECKPOINT = None\n",
    "SAVE_CHECKPOINT = \"./bc_agent_fox_recovery\"\n",
    "BATCH_SIZE = 128"
   ]
  },
  {
   "cell_type": "code",
   "execution_count": 12,
   "metadata": {
    "tags": []
   },
   "outputs": [
    {
     "output_type": "stream",
     "name": "stdout",
     "text": [
      "8385 steps. dim_states (87, 64), num_actions 69\n"
     ]
    }
   ],
   "source": [
    "states, actions, dim_states, num_actions = bc.states_from_folder(DATA_FOLDER)\n",
    "state_size, buffer_size = dim_states\n",
    "print(f\"{len(states)} steps. dim_states {dim_states}, num_actions {num_actions}\")\n",
    "train_dataloader, test_dataloader = bc.datasets(states, actions, batch_size=BATCH_SIZE)"
   ]
  },
  {
   "cell_type": "code",
   "execution_count": 15,
   "metadata": {},
   "outputs": [
    {
     "output_type": "stream",
     "name": "stdout",
     "text": [
      "Epoch 0     Train Loss: 4.56  Test Loss: 4.10 \n",
      "Epoch 1     Train Loss: 4.00  Test Loss: 3.89 \n",
      "Epoch 2     Train Loss: 3.74  Test Loss: 3.57 \n",
      "Epoch 3     Train Loss: 3.35  Test Loss: 3.14 \n",
      "Epoch 4     Train Loss: 2.91  Test Loss: 2.69 \n",
      "Epoch 5     Train Loss: 2.54  Test Loss: 2.38 \n",
      "Epoch 6     Train Loss: 2.31  Test Loss: 2.27 \n",
      "Epoch 7     Train Loss: 2.19  Test Loss: 2.15 \n",
      "Epoch 8     Train Loss: 2.14  Test Loss: 2.15 \n",
      "Epoch 9     Train Loss: 2.10  Test Loss: 2.12 \n",
      "Epoch 10    Train Loss: 2.10  Test Loss: 2.09 \n",
      "Epoch 11    Train Loss: 2.08  Test Loss: 2.08 \n",
      "Epoch 12    Train Loss: 2.07  Test Loss: 2.07 \n",
      "Epoch 13    Train Loss: 2.05  Test Loss: 2.07 \n",
      "Epoch 14    Train Loss: 2.05  Test Loss: 2.07 \n",
      "Epoch 15    Train Loss: 2.07  Test Loss: 2.06 \n",
      "Epoch 16    Train Loss: 2.05  Test Loss: 2.05 \n",
      "Epoch 17    Train Loss: 2.05  Test Loss: 2.06 \n",
      "Epoch 18    Train Loss: 2.04  Test Loss: 2.05 \n",
      "Epoch 19    Train Loss: 2.03  Test Loss: 2.05 \n",
      "Epoch 20    Train Loss: 2.04  Test Loss: 2.05 \n",
      "Epoch 21    Train Loss: 2.02  Test Loss: 2.06 \n",
      "Epoch 22    Train Loss: 2.03  Test Loss: 2.02 \n",
      "Epoch 23    Train Loss: 2.02  Test Loss: 2.05 \n",
      "Epoch 24    Train Loss: 2.01  Test Loss: 2.04 \n",
      "Epoch 25    Train Loss: 2.03  Test Loss: 2.04 \n",
      "Epoch 26    Train Loss: 2.03  Test Loss: 2.03 \n",
      "Epoch 27    Train Loss: 2.02  Test Loss: 2.04 \n",
      "Epoch 28    Train Loss: 2.02  Test Loss: 2.04 \n",
      "Epoch 29    Train Loss: 2.02  Test Loss: 2.03 \n",
      "Epoch 30    Train Loss: 2.02  Test Loss: 2.01 \n",
      "Epoch 31    Train Loss: 2.00  Test Loss: 2.04 \n",
      "Epoch 32    Train Loss: 2.01  Test Loss: 2.02 \n",
      "Epoch 33    Train Loss: 2.02  Test Loss: 2.02 \n",
      "Epoch 34    Train Loss: 2.01  Test Loss: 2.04 \n",
      "Epoch 35    Train Loss: 2.01  Test Loss: 2.03 \n",
      "Epoch 36    Train Loss: 2.01  Test Loss: 2.02 \n",
      "Epoch 37    Train Loss: 2.01  Test Loss: 2.02 \n",
      "Epoch 38    Train Loss: 2.00  Test Loss: 2.03 \n",
      "Epoch 39    Train Loss: 2.01  Test Loss: 2.03 \n",
      "Epoch 40    Train Loss: 2.01  Test Loss: 2.05 \n",
      "Epoch 41    Train Loss: 2.02  Test Loss: 2.03 \n",
      "Epoch 42    Train Loss: 2.01  Test Loss: 2.03 \n",
      "Epoch 43    Train Loss: 2.01  Test Loss: 2.03 \n",
      "Epoch 44    Train Loss: 2.00  Test Loss: 2.04 \n",
      "Epoch 45    Train Loss: 2.01  Test Loss: 2.02 \n",
      "Epoch 46    Train Loss: 2.00  Test Loss: 2.02 \n",
      "Epoch 47    Train Loss: 2.00  Test Loss: 2.00 \n",
      "Epoch 48    Train Loss: 2.00  Test Loss: 2.03 \n",
      "Epoch 49    Train Loss: 2.01  Test Loss: 2.03 \n"
     ]
    },
    {
     "output_type": "display_data",
     "data": {
      "text/plain": "<Figure size 432x288 with 1 Axes>",
      "image/svg+xml": "<?xml version=\"1.0\" encoding=\"utf-8\" standalone=\"no\"?>\n<!DOCTYPE svg PUBLIC \"-//W3C//DTD SVG 1.1//EN\"\n  \"http://www.w3.org/Graphics/SVG/1.1/DTD/svg11.dtd\">\n<!-- Created with matplotlib (https://matplotlib.org/) -->\n<svg height=\"248.518125pt\" version=\"1.1\" viewBox=\"0 0 372.103125 248.518125\" width=\"372.103125pt\" xmlns=\"http://www.w3.org/2000/svg\" xmlns:xlink=\"http://www.w3.org/1999/xlink\">\n <metadata>\n  <rdf:RDF xmlns:cc=\"http://creativecommons.org/ns#\" xmlns:dc=\"http://purl.org/dc/elements/1.1/\" xmlns:rdf=\"http://www.w3.org/1999/02/22-rdf-syntax-ns#\">\n   <cc:Work>\n    <dc:type rdf:resource=\"http://purl.org/dc/dcmitype/StillImage\"/>\n    <dc:date>2020-12-08T03:09:51.889574</dc:date>\n    <dc:format>image/svg+xml</dc:format>\n    <dc:creator>\n     <cc:Agent>\n      <dc:title>Matplotlib v3.3.3, https://matplotlib.org/</dc:title>\n     </cc:Agent>\n    </dc:creator>\n   </cc:Work>\n  </rdf:RDF>\n </metadata>\n <defs>\n  <style type=\"text/css\">*{stroke-linecap:butt;stroke-linejoin:round;}</style>\n </defs>\n <g id=\"figure_1\">\n  <g id=\"patch_1\">\n   <path d=\"M 0 248.518125 \nL 372.103125 248.518125 \nL 372.103125 0 \nL 0 0 \nz\n\" style=\"fill:none;\"/>\n  </g>\n  <g id=\"axes_1\">\n   <g id=\"patch_2\">\n    <path d=\"M 30.103125 224.64 \nL 364.903125 224.64 \nL 364.903125 7.2 \nL 30.103125 7.2 \nz\n\" style=\"fill:#ffffff;\"/>\n   </g>\n   <g id=\"matplotlib.axis_1\">\n    <g id=\"xtick_1\">\n     <g id=\"line2d_1\">\n      <defs>\n       <path d=\"M 0 0 \nL 0 3.5 \n\" id=\"md28e018639\" style=\"stroke:#000000;stroke-width:0.8;\"/>\n      </defs>\n      <g>\n       <use style=\"stroke:#000000;stroke-width:0.8;\" x=\"45.321307\" xlink:href=\"#md28e018639\" y=\"224.64\"/>\n      </g>\n     </g>\n     <g id=\"text_1\">\n      <!-- 0 -->\n      <g transform=\"translate(42.140057 239.238438)scale(0.1 -0.1)\">\n       <defs>\n        <path d=\"M 31.78125 66.40625 \nQ 24.171875 66.40625 20.328125 58.90625 \nQ 16.5 51.421875 16.5 36.375 \nQ 16.5 21.390625 20.328125 13.890625 \nQ 24.171875 6.390625 31.78125 6.390625 \nQ 39.453125 6.390625 43.28125 13.890625 \nQ 47.125 21.390625 47.125 36.375 \nQ 47.125 51.421875 43.28125 58.90625 \nQ 39.453125 66.40625 31.78125 66.40625 \nz\nM 31.78125 74.21875 \nQ 44.046875 74.21875 50.515625 64.515625 \nQ 56.984375 54.828125 56.984375 36.375 \nQ 56.984375 17.96875 50.515625 8.265625 \nQ 44.046875 -1.421875 31.78125 -1.421875 \nQ 19.53125 -1.421875 13.0625 8.265625 \nQ 6.59375 17.96875 6.59375 36.375 \nQ 6.59375 54.828125 13.0625 64.515625 \nQ 19.53125 74.21875 31.78125 74.21875 \nz\n\" id=\"DejaVuSans-48\"/>\n       </defs>\n       <use xlink:href=\"#DejaVuSans-48\"/>\n      </g>\n     </g>\n    </g>\n    <g id=\"xtick_2\">\n     <g id=\"line2d_2\">\n      <g>\n       <use style=\"stroke:#000000;stroke-width:0.8;\" x=\"107.436335\" xlink:href=\"#md28e018639\" y=\"224.64\"/>\n      </g>\n     </g>\n     <g id=\"text_2\">\n      <!-- 10 -->\n      <g transform=\"translate(101.073835 239.238438)scale(0.1 -0.1)\">\n       <defs>\n        <path d=\"M 12.40625 8.296875 \nL 28.515625 8.296875 \nL 28.515625 63.921875 \nL 10.984375 60.40625 \nL 10.984375 69.390625 \nL 28.421875 72.90625 \nL 38.28125 72.90625 \nL 38.28125 8.296875 \nL 54.390625 8.296875 \nL 54.390625 0 \nL 12.40625 0 \nz\n\" id=\"DejaVuSans-49\"/>\n       </defs>\n       <use xlink:href=\"#DejaVuSans-49\"/>\n       <use x=\"63.623047\" xlink:href=\"#DejaVuSans-48\"/>\n      </g>\n     </g>\n    </g>\n    <g id=\"xtick_3\">\n     <g id=\"line2d_3\">\n      <g>\n       <use style=\"stroke:#000000;stroke-width:0.8;\" x=\"169.551362\" xlink:href=\"#md28e018639\" y=\"224.64\"/>\n      </g>\n     </g>\n     <g id=\"text_3\">\n      <!-- 20 -->\n      <g transform=\"translate(163.188862 239.238438)scale(0.1 -0.1)\">\n       <defs>\n        <path d=\"M 19.1875 8.296875 \nL 53.609375 8.296875 \nL 53.609375 0 \nL 7.328125 0 \nL 7.328125 8.296875 \nQ 12.9375 14.109375 22.625 23.890625 \nQ 32.328125 33.6875 34.8125 36.53125 \nQ 39.546875 41.84375 41.421875 45.53125 \nQ 43.3125 49.21875 43.3125 52.78125 \nQ 43.3125 58.59375 39.234375 62.25 \nQ 35.15625 65.921875 28.609375 65.921875 \nQ 23.96875 65.921875 18.8125 64.3125 \nQ 13.671875 62.703125 7.8125 59.421875 \nL 7.8125 69.390625 \nQ 13.765625 71.78125 18.9375 73 \nQ 24.125 74.21875 28.421875 74.21875 \nQ 39.75 74.21875 46.484375 68.546875 \nQ 53.21875 62.890625 53.21875 53.421875 \nQ 53.21875 48.921875 51.53125 44.890625 \nQ 49.859375 40.875 45.40625 35.40625 \nQ 44.1875 33.984375 37.640625 27.21875 \nQ 31.109375 20.453125 19.1875 8.296875 \nz\n\" id=\"DejaVuSans-50\"/>\n       </defs>\n       <use xlink:href=\"#DejaVuSans-50\"/>\n       <use x=\"63.623047\" xlink:href=\"#DejaVuSans-48\"/>\n      </g>\n     </g>\n    </g>\n    <g id=\"xtick_4\">\n     <g id=\"line2d_4\">\n      <g>\n       <use style=\"stroke:#000000;stroke-width:0.8;\" x=\"231.66639\" xlink:href=\"#md28e018639\" y=\"224.64\"/>\n      </g>\n     </g>\n     <g id=\"text_4\">\n      <!-- 30 -->\n      <g transform=\"translate(225.30389 239.238438)scale(0.1 -0.1)\">\n       <defs>\n        <path d=\"M 40.578125 39.3125 \nQ 47.65625 37.796875 51.625 33 \nQ 55.609375 28.21875 55.609375 21.1875 \nQ 55.609375 10.40625 48.1875 4.484375 \nQ 40.765625 -1.421875 27.09375 -1.421875 \nQ 22.515625 -1.421875 17.65625 -0.515625 \nQ 12.796875 0.390625 7.625 2.203125 \nL 7.625 11.71875 \nQ 11.71875 9.328125 16.59375 8.109375 \nQ 21.484375 6.890625 26.8125 6.890625 \nQ 36.078125 6.890625 40.9375 10.546875 \nQ 45.796875 14.203125 45.796875 21.1875 \nQ 45.796875 27.640625 41.28125 31.265625 \nQ 36.765625 34.90625 28.71875 34.90625 \nL 20.21875 34.90625 \nL 20.21875 43.015625 \nL 29.109375 43.015625 \nQ 36.375 43.015625 40.234375 45.921875 \nQ 44.09375 48.828125 44.09375 54.296875 \nQ 44.09375 59.90625 40.109375 62.90625 \nQ 36.140625 65.921875 28.71875 65.921875 \nQ 24.65625 65.921875 20.015625 65.03125 \nQ 15.375 64.15625 9.8125 62.3125 \nL 9.8125 71.09375 \nQ 15.4375 72.65625 20.34375 73.4375 \nQ 25.25 74.21875 29.59375 74.21875 \nQ 40.828125 74.21875 47.359375 69.109375 \nQ 53.90625 64.015625 53.90625 55.328125 \nQ 53.90625 49.265625 50.4375 45.09375 \nQ 46.96875 40.921875 40.578125 39.3125 \nz\n\" id=\"DejaVuSans-51\"/>\n       </defs>\n       <use xlink:href=\"#DejaVuSans-51\"/>\n       <use x=\"63.623047\" xlink:href=\"#DejaVuSans-48\"/>\n      </g>\n     </g>\n    </g>\n    <g id=\"xtick_5\">\n     <g id=\"line2d_5\">\n      <g>\n       <use style=\"stroke:#000000;stroke-width:0.8;\" x=\"293.781418\" xlink:href=\"#md28e018639\" y=\"224.64\"/>\n      </g>\n     </g>\n     <g id=\"text_5\">\n      <!-- 40 -->\n      <g transform=\"translate(287.418918 239.238438)scale(0.1 -0.1)\">\n       <defs>\n        <path d=\"M 37.796875 64.3125 \nL 12.890625 25.390625 \nL 37.796875 25.390625 \nz\nM 35.203125 72.90625 \nL 47.609375 72.90625 \nL 47.609375 25.390625 \nL 58.015625 25.390625 \nL 58.015625 17.1875 \nL 47.609375 17.1875 \nL 47.609375 0 \nL 37.796875 0 \nL 37.796875 17.1875 \nL 4.890625 17.1875 \nL 4.890625 26.703125 \nz\n\" id=\"DejaVuSans-52\"/>\n       </defs>\n       <use xlink:href=\"#DejaVuSans-52\"/>\n       <use x=\"63.623047\" xlink:href=\"#DejaVuSans-48\"/>\n      </g>\n     </g>\n    </g>\n    <g id=\"xtick_6\">\n     <g id=\"line2d_6\">\n      <g>\n       <use style=\"stroke:#000000;stroke-width:0.8;\" x=\"355.896446\" xlink:href=\"#md28e018639\" y=\"224.64\"/>\n      </g>\n     </g>\n     <g id=\"text_6\">\n      <!-- 50 -->\n      <g transform=\"translate(349.533946 239.238438)scale(0.1 -0.1)\">\n       <defs>\n        <path d=\"M 10.796875 72.90625 \nL 49.515625 72.90625 \nL 49.515625 64.59375 \nL 19.828125 64.59375 \nL 19.828125 46.734375 \nQ 21.96875 47.46875 24.109375 47.828125 \nQ 26.265625 48.1875 28.421875 48.1875 \nQ 40.625 48.1875 47.75 41.5 \nQ 54.890625 34.8125 54.890625 23.390625 \nQ 54.890625 11.625 47.5625 5.09375 \nQ 40.234375 -1.421875 26.90625 -1.421875 \nQ 22.3125 -1.421875 17.546875 -0.640625 \nQ 12.796875 0.140625 7.71875 1.703125 \nL 7.71875 11.625 \nQ 12.109375 9.234375 16.796875 8.0625 \nQ 21.484375 6.890625 26.703125 6.890625 \nQ 35.15625 6.890625 40.078125 11.328125 \nQ 45.015625 15.765625 45.015625 23.390625 \nQ 45.015625 31 40.078125 35.4375 \nQ 35.15625 39.890625 26.703125 39.890625 \nQ 22.75 39.890625 18.8125 39.015625 \nQ 14.890625 38.140625 10.796875 36.28125 \nz\n\" id=\"DejaVuSans-53\"/>\n       </defs>\n       <use xlink:href=\"#DejaVuSans-53\"/>\n       <use x=\"63.623047\" xlink:href=\"#DejaVuSans-48\"/>\n      </g>\n     </g>\n    </g>\n   </g>\n   <g id=\"matplotlib.axis_2\">\n    <g id=\"ytick_1\">\n     <g id=\"line2d_7\">\n      <defs>\n       <path d=\"M 0 0 \nL -3.5 0 \n\" id=\"m73167211fe\" style=\"stroke:#000000;stroke-width:0.8;\"/>\n      </defs>\n      <g>\n       <use style=\"stroke:#000000;stroke-width:0.8;\" x=\"30.103125\" xlink:href=\"#m73167211fe\" y=\"214.543074\"/>\n      </g>\n     </g>\n     <g id=\"text_7\">\n      <!-- 2.0 -->\n      <g transform=\"translate(7.2 218.342293)scale(0.1 -0.1)\">\n       <defs>\n        <path d=\"M 10.6875 12.40625 \nL 21 12.40625 \nL 21 0 \nL 10.6875 0 \nz\n\" id=\"DejaVuSans-46\"/>\n       </defs>\n       <use xlink:href=\"#DejaVuSans-50\"/>\n       <use x=\"63.623047\" xlink:href=\"#DejaVuSans-46\"/>\n       <use x=\"95.410156\" xlink:href=\"#DejaVuSans-48\"/>\n      </g>\n     </g>\n    </g>\n    <g id=\"ytick_2\">\n     <g id=\"line2d_8\">\n      <g>\n       <use style=\"stroke:#000000;stroke-width:0.8;\" x=\"30.103125\" xlink:href=\"#m73167211fe\" y=\"175.971977\"/>\n      </g>\n     </g>\n     <g id=\"text_8\">\n      <!-- 2.5 -->\n      <g transform=\"translate(7.2 179.771195)scale(0.1 -0.1)\">\n       <use xlink:href=\"#DejaVuSans-50\"/>\n       <use x=\"63.623047\" xlink:href=\"#DejaVuSans-46\"/>\n       <use x=\"95.410156\" xlink:href=\"#DejaVuSans-53\"/>\n      </g>\n     </g>\n    </g>\n    <g id=\"ytick_3\">\n     <g id=\"line2d_9\">\n      <g>\n       <use style=\"stroke:#000000;stroke-width:0.8;\" x=\"30.103125\" xlink:href=\"#m73167211fe\" y=\"137.400879\"/>\n      </g>\n     </g>\n     <g id=\"text_9\">\n      <!-- 3.0 -->\n      <g transform=\"translate(7.2 141.200098)scale(0.1 -0.1)\">\n       <use xlink:href=\"#DejaVuSans-51\"/>\n       <use x=\"63.623047\" xlink:href=\"#DejaVuSans-46\"/>\n       <use x=\"95.410156\" xlink:href=\"#DejaVuSans-48\"/>\n      </g>\n     </g>\n    </g>\n    <g id=\"ytick_4\">\n     <g id=\"line2d_10\">\n      <g>\n       <use style=\"stroke:#000000;stroke-width:0.8;\" x=\"30.103125\" xlink:href=\"#m73167211fe\" y=\"98.829781\"/>\n      </g>\n     </g>\n     <g id=\"text_10\">\n      <!-- 3.5 -->\n      <g transform=\"translate(7.2 102.629)scale(0.1 -0.1)\">\n       <use xlink:href=\"#DejaVuSans-51\"/>\n       <use x=\"63.623047\" xlink:href=\"#DejaVuSans-46\"/>\n       <use x=\"95.410156\" xlink:href=\"#DejaVuSans-53\"/>\n      </g>\n     </g>\n    </g>\n    <g id=\"ytick_5\">\n     <g id=\"line2d_11\">\n      <g>\n       <use style=\"stroke:#000000;stroke-width:0.8;\" x=\"30.103125\" xlink:href=\"#m73167211fe\" y=\"60.258684\"/>\n      </g>\n     </g>\n     <g id=\"text_11\">\n      <!-- 4.0 -->\n      <g transform=\"translate(7.2 64.057902)scale(0.1 -0.1)\">\n       <use xlink:href=\"#DejaVuSans-52\"/>\n       <use x=\"63.623047\" xlink:href=\"#DejaVuSans-46\"/>\n       <use x=\"95.410156\" xlink:href=\"#DejaVuSans-48\"/>\n      </g>\n     </g>\n    </g>\n    <g id=\"ytick_6\">\n     <g id=\"line2d_12\">\n      <g>\n       <use style=\"stroke:#000000;stroke-width:0.8;\" x=\"30.103125\" xlink:href=\"#m73167211fe\" y=\"21.687586\"/>\n      </g>\n     </g>\n     <g id=\"text_12\">\n      <!-- 4.5 -->\n      <g transform=\"translate(7.2 25.486805)scale(0.1 -0.1)\">\n       <use xlink:href=\"#DejaVuSans-52\"/>\n       <use x=\"63.623047\" xlink:href=\"#DejaVuSans-46\"/>\n       <use x=\"95.410156\" xlink:href=\"#DejaVuSans-53\"/>\n      </g>\n     </g>\n    </g>\n   </g>\n   <g id=\"line2d_13\">\n    <path clip-path=\"url(#p8f2ab33bbe)\" d=\"M 45.321307 17.083636 \nL 51.53281 59.949482 \nL 57.744312 80.344221 \nL 63.955815 110.224835 \nL 70.167318 144.649288 \nL 76.378821 172.524734 \nL 82.590324 190.709674 \nL 88.801826 200.212621 \nL 95.013329 203.53507 \nL 101.224832 206.615656 \nL 107.436335 207.023725 \nL 113.647837 208.477328 \nL 119.85934 209.444359 \nL 126.070843 210.363283 \nL 132.282346 210.421053 \nL 138.493849 209.266924 \nL 144.705351 210.902235 \nL 150.916854 210.92313 \nL 157.128357 211.769135 \nL 163.33986 212.089671 \nL 169.551362 211.591094 \nL 175.762865 212.72246 \nL 181.974368 212.54765 \nL 188.185871 213.005783 \nL 194.397374 213.569229 \nL 200.608876 212.525961 \nL 206.820379 212.433353 \nL 213.031882 213.166712 \nL 219.243385 212.942168 \nL 225.454888 213.317352 \nL 231.66639 213.156604 \nL 237.877893 214.548507 \nL 244.089396 213.71769 \nL 250.300899 213.090335 \nL 256.512401 213.886488 \nL 262.723904 213.898514 \nL 268.935407 213.684946 \nL 275.14691 213.578031 \nL 281.358413 214.230292 \nL 287.569915 213.480218 \nL 293.781418 213.573111 \nL 299.992921 213.339977 \nL 306.204424 213.861456 \nL 312.415926 213.975092 \nL 318.627429 214.250648 \nL 324.838932 213.807754 \nL 331.050435 214.58847 \nL 337.261938 214.756364 \nL 343.47344 214.374582 \nL 349.684943 213.757483 \n\" style=\"fill:none;stroke:#1f77b4;stroke-linecap:square;stroke-width:1.5;\"/>\n   </g>\n   <g id=\"line2d_14\">\n    <path clip-path=\"url(#p8f2ab33bbe)\" d=\"M 45.321307 52.67045 \nL 51.53281 68.925213 \nL 57.744312 93.248963 \nL 63.955815 126.409722 \nL 70.167318 161.062521 \nL 76.378821 185.001572 \nL 82.590324 193.942256 \nL 88.801826 203.227832 \nL 95.013329 202.958172 \nL 101.224832 205.630643 \nL 107.436335 207.605809 \nL 113.647837 208.254202 \nL 119.85934 209.25532 \nL 126.070843 209.110397 \nL 132.282346 209.023201 \nL 138.493849 209.728686 \nL 144.705351 210.901724 \nL 150.916854 209.578105 \nL 157.128357 210.867497 \nL 163.33986 210.451739 \nL 169.551362 211.013713 \nL 175.762865 210.201782 \nL 181.974368 212.61575 \nL 188.185871 210.704543 \nL 194.397374 211.552236 \nL 200.608876 211.239238 \nL 206.820379 212.379445 \nL 213.031882 211.797379 \nL 219.243385 211.455394 \nL 225.454888 212.590044 \nL 231.66639 213.747502 \nL 237.877893 211.532509 \nL 244.089396 212.650732 \nL 250.300899 212.837275 \nL 256.512401 211.609541 \nL 262.723904 212.176408 \nL 268.935407 213.270014 \nL 275.14691 213.0056 \nL 281.358413 212.459021 \nL 287.569915 211.887422 \nL 293.781418 210.806193 \nL 299.992921 212.162415 \nL 306.204424 212.505008 \nL 312.415926 212.550877 \nL 318.627429 211.801446 \nL 324.838932 213.212032 \nL 331.050435 212.714362 \nL 337.261938 214.346651 \nL 343.47344 212.240497 \nL 349.684943 212.472678 \n\" style=\"fill:none;stroke:#ff7f0e;stroke-linecap:square;stroke-width:1.5;\"/>\n   </g>\n   <g id=\"patch_3\">\n    <path d=\"M 30.103125 224.64 \nL 30.103125 7.2 \n\" style=\"fill:none;stroke:#000000;stroke-linecap:square;stroke-linejoin:miter;stroke-width:0.8;\"/>\n   </g>\n   <g id=\"patch_4\">\n    <path d=\"M 364.903125 224.64 \nL 364.903125 7.2 \n\" style=\"fill:none;stroke:#000000;stroke-linecap:square;stroke-linejoin:miter;stroke-width:0.8;\"/>\n   </g>\n   <g id=\"patch_5\">\n    <path d=\"M 30.103125 224.64 \nL 364.903125 224.64 \n\" style=\"fill:none;stroke:#000000;stroke-linecap:square;stroke-linejoin:miter;stroke-width:0.8;\"/>\n   </g>\n   <g id=\"patch_6\">\n    <path d=\"M 30.103125 7.2 \nL 364.903125 7.2 \n\" style=\"fill:none;stroke:#000000;stroke-linecap:square;stroke-linejoin:miter;stroke-width:0.8;\"/>\n   </g>\n  </g>\n </g>\n <defs>\n  <clipPath id=\"p8f2ab33bbe\">\n   <rect height=\"217.44\" width=\"334.8\" x=\"30.103125\" y=\"7.2\"/>\n  </clipPath>\n </defs>\n</svg>\n",
      "image/png": "[encoded data removed]"
     },
     "metadata": {
      "needs_background": "light"
     }
    }
   ],
   "source": [
    "bc_agent = bc.LinearBufferAgent(buffer_size, state_size, num_actions)\n",
    "if LOAD_CHECKPOINT:\n",
    "    bc_agent.load_state(LOAD_CHECKPOINT)\n",
    "else:\n",
    "    bc.train(bc_agent, train_dataloader, test_dataloader, num_actions, num_epochs=50)\n",
    "    if SAVE_CHECKPOINT:\n",
    "        bc_agent.save_state(SAVE_CHECKPOINT)"
   ]
  },
  {
   "cell_type": "code",
   "execution_count": 24,
   "metadata": {
    "tags": []
   },
   "outputs": [
    {
     "output_type": "stream",
     "name": "stdout",
     "text": [
      "Connecting to console...\n",
      "Connecting controller to console...\n",
      "Controllers connected\n",
      "STOPPING DOLPHIN\n"
     ]
    }
   ],
   "source": [
    "bc.play(bc_agent, cpu_level=1, buffer_size=buffer_size, frame_skip=1)"
   ]
  },
  {
   "cell_type": "code",
   "execution_count": 6,
   "metadata": {},
   "outputs": [
    {
     "output_type": "stream",
     "name": "stdout",
     "text": [
      "Connecting to console...\n",
      "Connecting controller to console...\n",
      "Controllers connected\n",
      "STOPPING DOLPHIN\n"
     ]
    }
   ],
   "source": [
    "bc.play(bc_agent, cpu_level=9)"
   ]
  },
  {
   "cell_type": "code",
   "execution_count": null,
   "metadata": {},
   "outputs": [],
   "source": []
  }
 ],
 "metadata": {
  "kernelspec": {
   "display_name": "brawl",
   "language": "python",
   "name": "brawl"
  },
  "language_info": {
   "codemirror_mode": {
    "name": "ipython",
    "version": 3
   },
   "file_extension": ".py",
   "mimetype": "text/x-python",
   "name": "python",
   "nbconvert_exporter": "python",
   "pygments_lexer": "ipython3",
   "version": "3.8.2-final"
  }
 },
 "nbformat": 4,
 "nbformat_minor": 4
}